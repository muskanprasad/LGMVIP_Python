{
 "cells": [
  {
   "cell_type": "code",
   "execution_count": 5,
   "id": "097df74f-039d-4393-9823-d1cd4d613531",
   "metadata": {},
   "outputs": [
    {
     "name": "stderr",
     "output_type": "stream",
     "text": [
      "<>:30: SyntaxWarning: invalid escape sequence '\\P'\n",
      "<>:30: SyntaxWarning: invalid escape sequence '\\P'\n",
      "C:\\Users\\muska\\AppData\\Local\\Temp\\ipykernel_9052\\837218974.py:30: SyntaxWarning: invalid escape sequence '\\P'\n",
      "  programName = \"C:\\Program Files\\Google\\Chrome\\Application\\chrome.exe\"\n"
     ]
    },
    {
     "name": "stdout",
     "output_type": "stream",
     "text": [
      "Clearing background noises...Please wait\n",
      "Ask me anything..\n",
      "Your message: tell me the time\n",
      "09:44 PM\n",
      "Clearing background noises...Please wait\n",
      "Ask me anything..\n",
      "Your message: open whatsapp\n",
      "Clearing background noises...Please wait\n",
      "Ask me anything..\n",
      "Your message: open youtube\n",
      "Clearing background noises...Please wait\n",
      "Ask me anything..\n",
      "\n"
     ]
    },
    {
     "ename": "UnboundLocalError",
     "evalue": "cannot access local variable 'text' where it is not associated with a value",
     "output_type": "error",
     "traceback": [
      "\u001b[1;31m---------------------------------------------------------------------------\u001b[0m",
      "\u001b[1;31mUnboundLocalError\u001b[0m                         Traceback (most recent call last)",
      "Cell \u001b[1;32mIn[5], line 58\u001b[0m\n\u001b[0;32m     56\u001b[0m         webbrowser\u001b[38;5;241m.\u001b[39mopen(\u001b[38;5;124m'\u001b[39m\u001b[38;5;124mwww.whatsapp.com\u001b[39m\u001b[38;5;124m'\u001b[39m)\n\u001b[0;32m     57\u001b[0m \u001b[38;5;28;01mwhile\u001b[39;00m \u001b[38;5;28;01mTrue\u001b[39;00m:\n\u001b[1;32m---> 58\u001b[0m     \u001b[43mcmd\u001b[49m\u001b[43m(\u001b[49m\u001b[43m)\u001b[49m\n",
      "Cell \u001b[1;32mIn[5], line 26\u001b[0m, in \u001b[0;36mcmd\u001b[1;34m()\u001b[0m\n\u001b[0;32m     24\u001b[0m \u001b[38;5;28;01mexcept\u001b[39;00m \u001b[38;5;167;01mException\u001b[39;00m \u001b[38;5;28;01mas\u001b[39;00m ex:\n\u001b[0;32m     25\u001b[0m     \u001b[38;5;28mprint\u001b[39m(ex)\n\u001b[1;32m---> 26\u001b[0m \u001b[38;5;28;01mif\u001b[39;00m \u001b[38;5;124m'\u001b[39m\u001b[38;5;124mchrome\u001b[39m\u001b[38;5;124m'\u001b[39m\u001b[38;5;129;01min\u001b[39;00m \u001b[43mtext\u001b[49m:\n\u001b[0;32m     27\u001b[0m     a\u001b[38;5;241m=\u001b[39m\u001b[38;5;124m'\u001b[39m\u001b[38;5;124mOpening chrome..\u001b[39m\u001b[38;5;124m'\u001b[39m\n\u001b[0;32m     28\u001b[0m     machine\u001b[38;5;241m.\u001b[39msay(a)\n",
      "\u001b[1;31mUnboundLocalError\u001b[0m: cannot access local variable 'text' where it is not associated with a value"
     ]
    }
   ],
   "source": [
    "import speech_recognition as spr \n",
    "import datetime\n",
    "import subprocess\n",
    "import pywhatkit\n",
    "import pyttsx3\n",
    "import webbrowser\n",
    "\n",
    "machine=pyttsx3.init()\n",
    "voices=machine.getProperty('voices')\n",
    "machine.setProperty('voice',voices[1].id)\n",
    "recognizer=spr.Recognizer()\n",
    "\n",
    "def cmd():\n",
    "    with spr.Microphone() as source:\n",
    "        print(\"Clearing background noises...Please wait\")\n",
    "        recognizer.adjust_for_ambient_noise(source,duration=0.5)\n",
    "        print('Ask me anything..')\n",
    "        recordedaudio=recognizer.listen(source)\n",
    "    try:\n",
    "        text=recognizer.recognize_google(recordedaudio,language='en_US')\n",
    "        text=text.lower()\n",
    "        print('Your message:',format(text))\n",
    "\n",
    "    except Exception as ex:\n",
    "        print(ex)\n",
    "    if 'chrome'in text:\n",
    "        a='Opening chrome..'\n",
    "        machine.say(a)\n",
    "        machine.runAndWait()\n",
    "        programName = \"C:\\Program Files\\Google\\Chrome\\Application\\chrome.exe\"\n",
    "        subprocess.Popen([programName])\n",
    "    if 'time' in text:\n",
    "        time = datetime.datetime.now().strftime('%I:%M %p')\n",
    "        print(time)\n",
    "        machine.say(time)\n",
    "        machine.runAndWait()\n",
    "    if 'date' in text:\n",
    "        date = datetime.datetime.now().strftime('%I:%M %p')\n",
    "        print(date)\n",
    "        machine.say(date)\n",
    "        machine.runAndWait()\n",
    "    if 'play' in text:\n",
    "        a='opening youtube..'\n",
    "        machine.say(a)\n",
    "        machine.runAndWait()\n",
    "        pywhatkit.playonyt(text)\n",
    "    if 'youtube' in text:\n",
    "        b='opening youtube'\n",
    "        machine.say(b)\n",
    "        machine.runAndWait()\n",
    "        webbrowser.open('https://www.youtube.com/')\n",
    "    if 'whatsapp' in text:\n",
    "        b='opening whatsapp'\n",
    "        machine.say(b)\n",
    "        machine.runAndWait()\n",
    "        webbrowser.open('www.whatsapp.com')\n",
    "while True:\n",
    "    cmd()\n"
   ]
  },
  {
   "cell_type": "code",
   "execution_count": null,
   "id": "639e19b6-1481-4428-9239-d0c49e0b3105",
   "metadata": {},
   "outputs": [],
   "source": []
  }
 ],
 "metadata": {
  "kernelspec": {
   "display_name": "Python 3 (ipykernel)",
   "language": "python",
   "name": "python3"
  },
  "language_info": {
   "codemirror_mode": {
    "name": "ipython",
    "version": 3
   },
   "file_extension": ".py",
   "mimetype": "text/x-python",
   "name": "python",
   "nbconvert_exporter": "python",
   "pygments_lexer": "ipython3",
   "version": "3.12.2"
  }
 },
 "nbformat": 4,
 "nbformat_minor": 5
}
