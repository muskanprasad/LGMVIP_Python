{
 "cells": [
  {
   "cell_type": "code",
   "execution_count": 3,
   "id": "5002310d-9fb8-499d-b862-64727b74bfe7",
   "metadata": {},
   "outputs": [],
   "source": [
    "from moviepy.editor import *"
   ]
  },
  {
   "cell_type": "code",
   "execution_count": 4,
   "id": "66ddf997-1ba9-4430-8d3f-fb87d7094019",
   "metadata": {},
   "outputs": [
    {
     "name": "stdout",
     "output_type": "stream",
     "text": [
      "Moviepy - Building video output.mp4.\n",
      "Moviepy - Writing video output.mp4\n",
      "\n"
     ]
    },
    {
     "name": "stderr",
     "output_type": "stream",
     "text": [
      "                                                                                                                       "
     ]
    },
    {
     "name": "stdout",
     "output_type": "stream",
     "text": [
      "Moviepy - Done !\n",
      "Moviepy - video ready output.mp4\n"
     ]
    },
    {
     "name": "stderr",
     "output_type": "stream",
     "text": [
      "\r"
     ]
    }
   ],
   "source": [
    "clips = []\n",
    "clip1 = ImageClip('first.png').set_duration(1)\n",
    "clip2 = ImageClip('second.png').set_duration(1)\n",
    "clip1 = ImageClip('first.png').set_duration(1)\n",
    "clip2 = ImageClip('second.png').set_duration(1)\n",
    "clip1 = ImageClip('first.png').set_duration(1)\n",
    "clip2 = ImageClip('second.png').set_duration(1)\n",
    "clip1 = ImageClip('first.png').set_duration(1)\n",
    "clip2 = ImageClip('second.png').set_duration(1)\n",
    "clips.append(clip1)\n",
    "clips.append(clip2)\n",
    "clips.append(clip1)\n",
    "clips.append(clip2)\n",
    "clips.append(clip1)\n",
    "clips.append(clip2)\n",
    "clips.append(clip1)\n",
    "clips.append(clip2)\n",
    "video_clip = concatenate_videoclips(clips,method='compose')\n",
    "video_clip.write_videofile(\"output.mp4\",fps=24,remove_temp=True,codec=\"libx264\",audio_codec=\"aac\")"
   ]
  },
  {
   "cell_type": "code",
   "execution_count": null,
   "id": "05588d39-ce37-4d4c-a7ab-fb86e6a32eca",
   "metadata": {},
   "outputs": [],
   "source": []
  }
 ],
 "metadata": {
  "kernelspec": {
   "display_name": "Python 3 (ipykernel)",
   "language": "python",
   "name": "python3"
  },
  "language_info": {
   "codemirror_mode": {
    "name": "ipython",
    "version": 3
   },
   "file_extension": ".py",
   "mimetype": "text/x-python",
   "name": "python",
   "nbconvert_exporter": "python",
   "pygments_lexer": "ipython3",
   "version": "3.12.2"
  }
 },
 "nbformat": 4,
 "nbformat_minor": 5
}
