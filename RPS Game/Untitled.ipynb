{
 "cells": [
  {
   "cell_type": "code",
   "execution_count": 2,
   "id": "5803e9a8-b12a-4a0d-a26b-bae6c64e92e7",
   "metadata": {},
   "outputs": [
    {
     "name": "stdin",
     "output_type": "stream",
     "text": [
      "Enter your choice (rock, paper or scissors):  rock\n"
     ]
    },
    {
     "name": "stdout",
     "output_type": "stream",
     "text": [
      "Your choice rock, computer choice scissors\n",
      "\n",
      "You win! \n",
      "because Rock smashes scissors.\n"
     ]
    },
    {
     "name": "stdin",
     "output_type": "stream",
     "text": [
      "Play again? (y/n) y\n",
      "Enter your choice (rock, paper or scissors):  paper\n"
     ]
    },
    {
     "name": "stdout",
     "output_type": "stream",
     "text": [
      "Your choice paper, computer choice scissors\n",
      "\n",
      "You lose :\n",
      "Scissors cuts paper!\n"
     ]
    },
    {
     "name": "stdin",
     "output_type": "stream",
     "text": [
      "Play again? (y/n) y\n",
      "Enter your choice (rock, paper or scissors):  scissors\n"
     ]
    },
    {
     "name": "stdout",
     "output_type": "stream",
     "text": [
      "Your choice scissors, computer choice rock\n",
      "\n",
      "You lose :\n",
      "Rock smashes scissors!\n"
     ]
    },
    {
     "name": "stdin",
     "output_type": "stream",
     "text": [
      "Play again? (y/n) n\n"
     ]
    }
   ],
   "source": [
    "import random\n",
    "\n",
    "t = ['rock', 'paper', 'scissors']\n",
    "\n",
    "while True:\n",
    "    user_choice = input('Enter your choice (rock, paper or scissors): ')\n",
    "\n",
    "    comp_choice = random.choice(t)\n",
    "\n",
    "    print(f\"Your choice {user_choice}, computer choice {comp_choice}\\n\")\n",
    "\n",
    "    if user_choice == comp_choice:\n",
    "        print(f\"Both players selected {user_choice}. It's a tie!\")\n",
    "    elif user_choice == \"rock\":\n",
    "        if comp_choice == \"scissors\":\n",
    "            print(\"You win! \\nbecause Rock smashes scissors.\")\n",
    "        else:\n",
    "            print(\"You lose :\\nPaper covers rock!\")\n",
    "    elif user_choice == \"paper\":\n",
    "        if comp_choice == \"rock\":\n",
    "            print(\"You win! \\nbecause Paper covers rock.\")\n",
    "        else:\n",
    "            print(\"You lose :\\nScissors cuts paper!\")\n",
    "    elif user_choice == \"scissors\":\n",
    "        if comp_choice == \"paper\":\n",
    "            print(\"You win! \\nbecause Scissors cuts paper.\")\n",
    "        else:\n",
    "            print(\"You lose :\\nRock smashes scissors!\")\n",
    "    play_again = input('Play again? (y/n)')\n",
    "    if (play_again.lower() == 'n'):\n",
    "        break"
   ]
  },
  {
   "cell_type": "code",
   "execution_count": null,
   "id": "c0651b33-f0f0-4bdd-998d-6d9341bedd5c",
   "metadata": {},
   "outputs": [],
   "source": []
  }
 ],
 "metadata": {
  "kernelspec": {
   "display_name": "Python 3 (ipykernel)",
   "language": "python",
   "name": "python3"
  },
  "language_info": {
   "codemirror_mode": {
    "name": "ipython",
    "version": 3
   },
   "file_extension": ".py",
   "mimetype": "text/x-python",
   "name": "python",
   "nbconvert_exporter": "python",
   "pygments_lexer": "ipython3",
   "version": "3.12.2"
  }
 },
 "nbformat": 4,
 "nbformat_minor": 5
}
